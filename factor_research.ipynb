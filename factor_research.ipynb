{
 "cells": [
  {
   "cell_type": "markdown",
   "metadata": {},
   "source": [
    "# Factor Research \n",
    "\n",
    "for FnGuide Application"
   ]
  },
  {
   "cell_type": "code",
   "execution_count": 1,
   "metadata": {},
   "outputs": [],
   "source": [
    "from pathlib import Path\n",
    "\n",
    "import pandas as pd\n",
    "import numpy as np\n",
    "import matplotlib.pyplot as plt\n",
    "\n",
    "import json\n",
    "\n",
    "from pprint import pprint as pp"
   ]
  },
  {
   "cell_type": "code",
   "execution_count": 2,
   "metadata": {},
   "outputs": [],
   "source": [
    "import torch\n",
    "from transformers import AutoTokenizer, AutoModel"
   ]
  },
  {
   "cell_type": "code",
   "execution_count": 3,
   "metadata": {},
   "outputs": [],
   "source": [
    "cwd = Path.cwd()\n",
    "data_dir = cwd / \"data\"\n",
    "fnguide_dir = data_dir / \"fnguide\"\n",
    "kqdl_dir = data_dir / \"kqdl\"\n",
    "navernews_dir = data_dir / \"navernews\" / \"navernews\""
   ]
  },
  {
   "cell_type": "markdown",
   "metadata": {},
   "source": [
    "## 1. Import Dataset\n",
    "\n",
    "학교에서 추출한 DataGuide 파일들을 불러오기\n",
    "\n",
    "추출할 때 기간 내 delisted 종목도 포함시켰기 때문에 survivorship bias 적음."
   ]
  },
  {
   "cell_type": "code",
   "execution_count": 4,
   "metadata": {},
   "outputs": [],
   "source": [
    "## 추출한 fnguide 데이터를 dataframe으로 전처리\n",
    "\n",
    "def preprocess_dataguide_csv(fn_file_name, cols, skiprows=8):\n",
    "    fn_df = pd.read_csv(fnguide_dir / fn_file_name, encoding=\"cp949\", skiprows=skiprows, thousands=\",\")\n",
    "    fn_df = fn_df.melt(id_vars=cols, var_name=\"date\", value_name=\"value\")\n",
    "\n",
    "    return fn_df"
   ]
  },
  {
   "cell_type": "code",
   "execution_count": 5,
   "metadata": {},
   "outputs": [],
   "source": [
    "fn_file_names = [\n",
    "    'dataguide_kse+kosdaq_20140101-20231215_stc_pricevolume.CSV',\n",
    "    'dataguide_kse+kosdaq_20140101-20231219_stc_mktcap.CSV',\n",
    "    'dataguide_kse+kosdaq_20140101-20231219_foreigner.CSV',\n",
    "]"
   ]
  },
  {
   "cell_type": "code",
   "execution_count": 6,
   "metadata": {},
   "outputs": [],
   "source": [
    "## 날짜가 아닌 컬럼들\n",
    "\n",
    "cols = ['Symbol', 'Symbol Name', 'Kind', 'Item', 'Item Name ', 'Frequency',]"
   ]
  },
  {
   "cell_type": "code",
   "execution_count": 7,
   "metadata": {},
   "outputs": [],
   "source": [
    "pricevolume_df = preprocess_dataguide_csv(fn_file_names[0], cols)\n",
    "mktcap_df = preprocess_dataguide_csv(fn_file_names[1], cols)\n",
    "foreigner_df = preprocess_dataguide_csv(fn_file_names[2], cols)"
   ]
  },
  {
   "cell_type": "code",
   "execution_count": 8,
   "metadata": {},
   "outputs": [
    {
     "data": {
      "text/plain": [
       "array(['수익률(%)', '수정주가(원)', '수정저가(원)', '수정고가(원)', '수정시가(원)', '거래량(주)',\n",
       "       '거래대금(원)'], dtype=object)"
      ]
     },
     "execution_count": 8,
     "metadata": {},
     "output_type": "execute_result"
    }
   ],
   "source": [
    "pricevolume_df['Item Name '].unique()"
   ]
  },
  {
   "cell_type": "code",
   "execution_count": 9,
   "metadata": {},
   "outputs": [
    {
     "data": {
      "text/plain": [
       "array(['시가총액 (티커-상장예정주식수 미포함)(백만원)'], dtype=object)"
      ]
     },
     "execution_count": 9,
     "metadata": {},
     "output_type": "execute_result"
    }
   ],
   "source": [
    "mktcap_df['Item Name '].unique()"
   ]
  },
  {
   "cell_type": "code",
   "execution_count": 10,
   "metadata": {},
   "outputs": [
    {
     "data": {
      "text/plain": [
       "array(['외국인보유비중(티커)(%)'], dtype=object)"
      ]
     },
     "execution_count": 10,
     "metadata": {},
     "output_type": "execute_result"
    }
   ],
   "source": [
    "foreigner_df['Item Name '].unique()"
   ]
  },
  {
   "cell_type": "code",
   "execution_count": 11,
   "metadata": {},
   "outputs": [
    {
     "name": "stdout",
     "output_type": "stream",
     "text": [
      "<class 'pandas.core.frame.DataFrame'>\n",
      "RangeIndex: 92848805 entries, 0 to 92848804\n",
      "Data columns (total 8 columns):\n",
      " #   Column       Dtype  \n",
      "---  ------       -----  \n",
      " 0   Symbol       object \n",
      " 1   Symbol Name  object \n",
      " 2   Kind         object \n",
      " 3   Item         object \n",
      " 4   Item Name    object \n",
      " 5   Frequency    object \n",
      " 6   date         object \n",
      " 7   value        float64\n",
      "dtypes: float64(1), object(7)\n",
      "memory usage: 5.5+ GB\n"
     ]
    }
   ],
   "source": [
    "pricevolume_df.info() # 원래 값이 \"10,000\" 와 같이 comma seperated string number로 되어있었음. "
   ]
  },
  {
   "cell_type": "markdown",
   "metadata": {},
   "source": [
    "## 2. Transform dataset\n",
    "\n",
    "퀀트 분석을 위한 panel 형태로 변환"
   ]
  },
  {
   "cell_type": "code",
   "execution_count": 12,
   "metadata": {},
   "outputs": [],
   "source": [
    "def get_panel_df(df, item_name):\n",
    "    panel_df = df.loc[df['Item Name '] == item_name].copy()\n",
    "    panel_df = panel_df.pivot(index='date', columns='Symbol', values='value')\n",
    "    panel_df = panel_df.reset_index()\n",
    "    \n",
    "    return panel_df"
   ]
  },
  {
   "cell_type": "code",
   "execution_count": 13,
   "metadata": {},
   "outputs": [],
   "source": [
    "def transform_panel(panel_df, remove_holidays=True, drop_sid_prefix=False):\n",
    "    panel_df = panel_df.set_index('date', inplace=False)\n",
    "    panel_df.sort_index(inplace=True)\n",
    "\n",
    "    if drop_sid_prefix:\n",
    "        panel_df.columns = [sid[1:] for sid in panel_df.columns]\n",
    "\n",
    "    if remove_holidays:\n",
    "        panel_df = panel_df.dropna(how='all', axis=0)\n",
    "    \n",
    "    return panel_df"
   ]
  },
  {
   "cell_type": "code",
   "execution_count": 14,
   "metadata": {},
   "outputs": [],
   "source": [
    "return_2d = transform_panel(get_panel_df(pricevolume_df, '수익률(%)'))\n",
    "tradingmoneyvolume_2d = transform_panel(get_panel_df(pricevolume_df, '거래대금(원)'))\n",
    "mktcap_2d = transform_panel(get_panel_df(mktcap_df, '시가총액 (티커-상장예정주식수 미포함)(백만원)'))\n",
    "foreigner_2d = transform_panel(get_panel_df(foreigner_df, '외국인보유비중(티커)(%)'))\n"
   ]
  },
  {
   "cell_type": "code",
   "execution_count": 15,
   "metadata": {},
   "outputs": [
    {
     "data": {
      "text/html": [
       "<div>\n",
       "<style scoped>\n",
       "    .dataframe tbody tr th:only-of-type {\n",
       "        vertical-align: middle;\n",
       "    }\n",
       "\n",
       "    .dataframe tbody tr th {\n",
       "        vertical-align: top;\n",
       "    }\n",
       "\n",
       "    .dataframe thead th {\n",
       "        text-align: right;\n",
       "    }\n",
       "</style>\n",
       "<table border=\"1\" class=\"dataframe\">\n",
       "  <thead>\n",
       "    <tr style=\"text-align: right;\">\n",
       "      <th>Symbol</th>\n",
       "      <th>A000010</th>\n",
       "      <th>A000020</th>\n",
       "      <th>A000030</th>\n",
       "      <th>A000040</th>\n",
       "      <th>A000050</th>\n",
       "      <th>A000060</th>\n",
       "      <th>A000070</th>\n",
       "      <th>A000080</th>\n",
       "      <th>A000090</th>\n",
       "      <th>A000100</th>\n",
       "      <th>...</th>\n",
       "      <th>A950110</th>\n",
       "      <th>A950130</th>\n",
       "      <th>A950140</th>\n",
       "      <th>A950160</th>\n",
       "      <th>A950170</th>\n",
       "      <th>A950180</th>\n",
       "      <th>A950190</th>\n",
       "      <th>A950200</th>\n",
       "      <th>A950210</th>\n",
       "      <th>A950220</th>\n",
       "    </tr>\n",
       "    <tr>\n",
       "      <th>date</th>\n",
       "      <th></th>\n",
       "      <th></th>\n",
       "      <th></th>\n",
       "      <th></th>\n",
       "      <th></th>\n",
       "      <th></th>\n",
       "      <th></th>\n",
       "      <th></th>\n",
       "      <th></th>\n",
       "      <th></th>\n",
       "      <th></th>\n",
       "      <th></th>\n",
       "      <th></th>\n",
       "      <th></th>\n",
       "      <th></th>\n",
       "      <th></th>\n",
       "      <th></th>\n",
       "      <th></th>\n",
       "      <th></th>\n",
       "      <th></th>\n",
       "      <th></th>\n",
       "    </tr>\n",
       "  </thead>\n",
       "  <tbody>\n",
       "    <tr>\n",
       "      <th>2023-12-01</th>\n",
       "      <td>NaN</td>\n",
       "      <td>-0.84</td>\n",
       "      <td>NaN</td>\n",
       "      <td>-0.20</td>\n",
       "      <td>-0.35</td>\n",
       "      <td>NaN</td>\n",
       "      <td>0.00</td>\n",
       "      <td>1.58</td>\n",
       "      <td>NaN</td>\n",
       "      <td>0.33</td>\n",
       "      <td>...</td>\n",
       "      <td>0.23</td>\n",
       "      <td>10.10</td>\n",
       "      <td>2.36</td>\n",
       "      <td>0.00</td>\n",
       "      <td>0.00</td>\n",
       "      <td>NaN</td>\n",
       "      <td>1.66</td>\n",
       "      <td>-1.34</td>\n",
       "      <td>-0.50</td>\n",
       "      <td>0.73</td>\n",
       "    </tr>\n",
       "    <tr>\n",
       "      <th>2023-12-04</th>\n",
       "      <td>NaN</td>\n",
       "      <td>-0.85</td>\n",
       "      <td>NaN</td>\n",
       "      <td>1.38</td>\n",
       "      <td>1.05</td>\n",
       "      <td>NaN</td>\n",
       "      <td>0.14</td>\n",
       "      <td>1.34</td>\n",
       "      <td>NaN</td>\n",
       "      <td>-0.98</td>\n",
       "      <td>...</td>\n",
       "      <td>0.57</td>\n",
       "      <td>-1.48</td>\n",
       "      <td>0.32</td>\n",
       "      <td>-1.02</td>\n",
       "      <td>-0.51</td>\n",
       "      <td>NaN</td>\n",
       "      <td>1.45</td>\n",
       "      <td>2.13</td>\n",
       "      <td>-1.32</td>\n",
       "      <td>5.12</td>\n",
       "    </tr>\n",
       "    <tr>\n",
       "      <th>2023-12-05</th>\n",
       "      <td>NaN</td>\n",
       "      <td>2.14</td>\n",
       "      <td>NaN</td>\n",
       "      <td>0.19</td>\n",
       "      <td>-0.57</td>\n",
       "      <td>NaN</td>\n",
       "      <td>0.00</td>\n",
       "      <td>0.22</td>\n",
       "      <td>NaN</td>\n",
       "      <td>3.94</td>\n",
       "      <td>...</td>\n",
       "      <td>-1.35</td>\n",
       "      <td>26.23</td>\n",
       "      <td>2.93</td>\n",
       "      <td>-0.91</td>\n",
       "      <td>-1.55</td>\n",
       "      <td>NaN</td>\n",
       "      <td>-0.18</td>\n",
       "      <td>0.95</td>\n",
       "      <td>-0.82</td>\n",
       "      <td>7.81</td>\n",
       "    </tr>\n",
       "    <tr>\n",
       "      <th>2023-12-06</th>\n",
       "      <td>NaN</td>\n",
       "      <td>0.52</td>\n",
       "      <td>NaN</td>\n",
       "      <td>-2.72</td>\n",
       "      <td>1.85</td>\n",
       "      <td>NaN</td>\n",
       "      <td>0.14</td>\n",
       "      <td>0.66</td>\n",
       "      <td>NaN</td>\n",
       "      <td>1.42</td>\n",
       "      <td>...</td>\n",
       "      <td>1.37</td>\n",
       "      <td>-6.62</td>\n",
       "      <td>-0.69</td>\n",
       "      <td>-1.15</td>\n",
       "      <td>-2.09</td>\n",
       "      <td>NaN</td>\n",
       "      <td>8.94</td>\n",
       "      <td>0.56</td>\n",
       "      <td>-0.10</td>\n",
       "      <td>-0.75</td>\n",
       "    </tr>\n",
       "    <tr>\n",
       "      <th>2023-12-07</th>\n",
       "      <td>NaN</td>\n",
       "      <td>3.23</td>\n",
       "      <td>NaN</td>\n",
       "      <td>-0.60</td>\n",
       "      <td>-1.02</td>\n",
       "      <td>NaN</td>\n",
       "      <td>-1.58</td>\n",
       "      <td>0.00</td>\n",
       "      <td>NaN</td>\n",
       "      <td>2.02</td>\n",
       "      <td>...</td>\n",
       "      <td>0.56</td>\n",
       "      <td>-0.54</td>\n",
       "      <td>-1.63</td>\n",
       "      <td>-0.12</td>\n",
       "      <td>-1.20</td>\n",
       "      <td>NaN</td>\n",
       "      <td>-3.12</td>\n",
       "      <td>0.93</td>\n",
       "      <td>-1.66</td>\n",
       "      <td>1.29</td>\n",
       "    </tr>\n",
       "    <tr>\n",
       "      <th>2023-12-08</th>\n",
       "      <td>NaN</td>\n",
       "      <td>-0.30</td>\n",
       "      <td>NaN</td>\n",
       "      <td>1.00</td>\n",
       "      <td>0.92</td>\n",
       "      <td>NaN</td>\n",
       "      <td>0.88</td>\n",
       "      <td>-0.22</td>\n",
       "      <td>NaN</td>\n",
       "      <td>0.46</td>\n",
       "      <td>...</td>\n",
       "      <td>-0.45</td>\n",
       "      <td>-4.57</td>\n",
       "      <td>2.36</td>\n",
       "      <td>0.00</td>\n",
       "      <td>1.08</td>\n",
       "      <td>NaN</td>\n",
       "      <td>-1.27</td>\n",
       "      <td>1.30</td>\n",
       "      <td>0.53</td>\n",
       "      <td>-0.40</td>\n",
       "    </tr>\n",
       "    <tr>\n",
       "      <th>2023-12-11</th>\n",
       "      <td>NaN</td>\n",
       "      <td>-0.10</td>\n",
       "      <td>NaN</td>\n",
       "      <td>-0.20</td>\n",
       "      <td>0.23</td>\n",
       "      <td>NaN</td>\n",
       "      <td>0.43</td>\n",
       "      <td>1.09</td>\n",
       "      <td>NaN</td>\n",
       "      <td>-0.61</td>\n",
       "      <td>...</td>\n",
       "      <td>-0.23</td>\n",
       "      <td>-5.26</td>\n",
       "      <td>4.54</td>\n",
       "      <td>1.17</td>\n",
       "      <td>0.40</td>\n",
       "      <td>NaN</td>\n",
       "      <td>5.58</td>\n",
       "      <td>-1.83</td>\n",
       "      <td>0.00</td>\n",
       "      <td>-1.56</td>\n",
       "    </tr>\n",
       "    <tr>\n",
       "      <th>2023-12-12</th>\n",
       "      <td>NaN</td>\n",
       "      <td>0.71</td>\n",
       "      <td>NaN</td>\n",
       "      <td>0.20</td>\n",
       "      <td>-0.91</td>\n",
       "      <td>NaN</td>\n",
       "      <td>-0.86</td>\n",
       "      <td>0.65</td>\n",
       "      <td>NaN</td>\n",
       "      <td>0.15</td>\n",
       "      <td>...</td>\n",
       "      <td>6.67</td>\n",
       "      <td>-1.11</td>\n",
       "      <td>-3.46</td>\n",
       "      <td>-0.92</td>\n",
       "      <td>0.80</td>\n",
       "      <td>NaN</td>\n",
       "      <td>-4.31</td>\n",
       "      <td>1.49</td>\n",
       "      <td>1.57</td>\n",
       "      <td>-1.59</td>\n",
       "    </tr>\n",
       "    <tr>\n",
       "      <th>2023-12-13</th>\n",
       "      <td>NaN</td>\n",
       "      <td>-1.31</td>\n",
       "      <td>NaN</td>\n",
       "      <td>-0.99</td>\n",
       "      <td>0.69</td>\n",
       "      <td>NaN</td>\n",
       "      <td>-1.02</td>\n",
       "      <td>0.00</td>\n",
       "      <td>NaN</td>\n",
       "      <td>-1.53</td>\n",
       "      <td>...</td>\n",
       "      <td>3.92</td>\n",
       "      <td>-6.03</td>\n",
       "      <td>-0.91</td>\n",
       "      <td>-0.47</td>\n",
       "      <td>-0.93</td>\n",
       "      <td>NaN</td>\n",
       "      <td>-0.68</td>\n",
       "      <td>-5.50</td>\n",
       "      <td>-1.03</td>\n",
       "      <td>-1.67</td>\n",
       "    </tr>\n",
       "    <tr>\n",
       "      <th>2023-12-14</th>\n",
       "      <td>NaN</td>\n",
       "      <td>0.00</td>\n",
       "      <td>NaN</td>\n",
       "      <td>-26.91</td>\n",
       "      <td>-1.48</td>\n",
       "      <td>NaN</td>\n",
       "      <td>0.59</td>\n",
       "      <td>0.21</td>\n",
       "      <td>NaN</td>\n",
       "      <td>-0.47</td>\n",
       "      <td>...</td>\n",
       "      <td>-2.85</td>\n",
       "      <td>0.98</td>\n",
       "      <td>2.38</td>\n",
       "      <td>0.47</td>\n",
       "      <td>0.13</td>\n",
       "      <td>NaN</td>\n",
       "      <td>0.86</td>\n",
       "      <td>2.14</td>\n",
       "      <td>0.10</td>\n",
       "      <td>5.59</td>\n",
       "    </tr>\n",
       "  </tbody>\n",
       "</table>\n",
       "<p>10 rows × 3649 columns</p>\n",
       "</div>"
      ],
      "text/plain": [
       "Symbol      A000010  A000020  A000030  A000040  A000050  A000060  A000070  \\\n",
       "date                                                                        \n",
       "2023-12-01      NaN    -0.84      NaN    -0.20    -0.35      NaN     0.00   \n",
       "2023-12-04      NaN    -0.85      NaN     1.38     1.05      NaN     0.14   \n",
       "2023-12-05      NaN     2.14      NaN     0.19    -0.57      NaN     0.00   \n",
       "2023-12-06      NaN     0.52      NaN    -2.72     1.85      NaN     0.14   \n",
       "2023-12-07      NaN     3.23      NaN    -0.60    -1.02      NaN    -1.58   \n",
       "2023-12-08      NaN    -0.30      NaN     1.00     0.92      NaN     0.88   \n",
       "2023-12-11      NaN    -0.10      NaN    -0.20     0.23      NaN     0.43   \n",
       "2023-12-12      NaN     0.71      NaN     0.20    -0.91      NaN    -0.86   \n",
       "2023-12-13      NaN    -1.31      NaN    -0.99     0.69      NaN    -1.02   \n",
       "2023-12-14      NaN     0.00      NaN   -26.91    -1.48      NaN     0.59   \n",
       "\n",
       "Symbol      A000080  A000090  A000100  ...  A950110  A950130  A950140  \\\n",
       "date                                   ...                              \n",
       "2023-12-01     1.58      NaN     0.33  ...     0.23    10.10     2.36   \n",
       "2023-12-04     1.34      NaN    -0.98  ...     0.57    -1.48     0.32   \n",
       "2023-12-05     0.22      NaN     3.94  ...    -1.35    26.23     2.93   \n",
       "2023-12-06     0.66      NaN     1.42  ...     1.37    -6.62    -0.69   \n",
       "2023-12-07     0.00      NaN     2.02  ...     0.56    -0.54    -1.63   \n",
       "2023-12-08    -0.22      NaN     0.46  ...    -0.45    -4.57     2.36   \n",
       "2023-12-11     1.09      NaN    -0.61  ...    -0.23    -5.26     4.54   \n",
       "2023-12-12     0.65      NaN     0.15  ...     6.67    -1.11    -3.46   \n",
       "2023-12-13     0.00      NaN    -1.53  ...     3.92    -6.03    -0.91   \n",
       "2023-12-14     0.21      NaN    -0.47  ...    -2.85     0.98     2.38   \n",
       "\n",
       "Symbol      A950160  A950170  A950180  A950190  A950200  A950210  A950220  \n",
       "date                                                                       \n",
       "2023-12-01     0.00     0.00      NaN     1.66    -1.34    -0.50     0.73  \n",
       "2023-12-04    -1.02    -0.51      NaN     1.45     2.13    -1.32     5.12  \n",
       "2023-12-05    -0.91    -1.55      NaN    -0.18     0.95    -0.82     7.81  \n",
       "2023-12-06    -1.15    -2.09      NaN     8.94     0.56    -0.10    -0.75  \n",
       "2023-12-07    -0.12    -1.20      NaN    -3.12     0.93    -1.66     1.29  \n",
       "2023-12-08     0.00     1.08      NaN    -1.27     1.30     0.53    -0.40  \n",
       "2023-12-11     1.17     0.40      NaN     5.58    -1.83     0.00    -1.56  \n",
       "2023-12-12    -0.92     0.80      NaN    -4.31     1.49     1.57    -1.59  \n",
       "2023-12-13    -0.47    -0.93      NaN    -0.68    -5.50    -1.03    -1.67  \n",
       "2023-12-14     0.47     0.13      NaN     0.86     2.14     0.10     5.59  \n",
       "\n",
       "[10 rows x 3649 columns]"
      ]
     },
     "execution_count": 15,
     "metadata": {},
     "output_type": "execute_result"
    }
   ],
   "source": [
    "return_2d.tail(10)"
   ]
  },
  {
   "cell_type": "code",
   "execution_count": 16,
   "metadata": {},
   "outputs": [],
   "source": [
    "# Make checkpoint\n",
    "\n",
    "return_2d.to_pickle(fnguide_dir / 'return_2d.pkl')\n",
    "tradingmoneyvolume_2d.to_pickle(fnguide_dir / 'tradingmoneyvolume_2d.pkl')\n",
    "mktcap_2d.to_pickle(fnguide_dir / 'mktcap_2d.pkl')\n",
    "foreigner_2d.to_pickle(fnguide_dir / 'foreigner_2d.pkl')"
   ]
  },
  {
   "cell_type": "markdown",
   "metadata": {},
   "source": [
    "## 3. Universe Filtering \n",
    "\n",
    "현실적인 포트폴리오 백테스팅을 위해 유동성 상위 2000 종목으로만 구성된 유니버스를 구성"
   ]
  },
  {
   "cell_type": "code",
   "execution_count": 17,
   "metadata": {},
   "outputs": [],
   "source": [
    "START_DATE = '2014-01-01'\n",
    "END_DATE = '2022-05-31' # news dataset은 여기까지 있음. \n",
    "\n",
    "SUBUNIVERSE = 2000"
   ]
  },
  {
   "cell_type": "code",
   "execution_count": 18,
   "metadata": {},
   "outputs": [
    {
     "data": {
      "text/plain": [
       "Index(['2014-01-02', '2014-01-03', '2014-01-06', '2014-01-07', '2014-01-08',\n",
       "       '2014-01-09', '2014-01-10', '2014-01-13', '2014-01-14', '2014-01-15',\n",
       "       ...\n",
       "       '2023-12-01', '2023-12-04', '2023-12-05', '2023-12-06', '2023-12-07',\n",
       "       '2023-12-08', '2023-12-11', '2023-12-12', '2023-12-13', '2023-12-14'],\n",
       "      dtype='object', name='date', length=2450)"
      ]
     },
     "execution_count": 18,
     "metadata": {},
     "output_type": "execute_result"
    }
   ],
   "source": [
    "tradingmoneyvolume_2d.index"
   ]
  },
  {
   "cell_type": "code",
   "execution_count": 22,
   "metadata": {},
   "outputs": [],
   "source": [
    "liquidity_rank_2d = tradingmoneyvolume_2d.rank(axis=1, method='dense', ascending=False)\n",
    "univ2000_2d = liquidity_rank_2d <= SUBUNIVERSE"
   ]
  },
  {
   "cell_type": "code",
   "execution_count": 24,
   "metadata": {},
   "outputs": [
    {
     "data": {
      "text/html": [
       "<div>\n",
       "<style scoped>\n",
       "    .dataframe tbody tr th:only-of-type {\n",
       "        vertical-align: middle;\n",
       "    }\n",
       "\n",
       "    .dataframe tbody tr th {\n",
       "        vertical-align: top;\n",
       "    }\n",
       "\n",
       "    .dataframe thead th {\n",
       "        text-align: right;\n",
       "    }\n",
       "</style>\n",
       "<table border=\"1\" class=\"dataframe\">\n",
       "  <thead>\n",
       "    <tr style=\"text-align: right;\">\n",
       "      <th>Symbol</th>\n",
       "      <th>A000010</th>\n",
       "      <th>A000020</th>\n",
       "      <th>A000030</th>\n",
       "      <th>A000040</th>\n",
       "      <th>A000050</th>\n",
       "      <th>A000060</th>\n",
       "      <th>A000070</th>\n",
       "      <th>A000080</th>\n",
       "      <th>A000090</th>\n",
       "      <th>A000100</th>\n",
       "      <th>...</th>\n",
       "      <th>A950110</th>\n",
       "      <th>A950130</th>\n",
       "      <th>A950140</th>\n",
       "      <th>A950160</th>\n",
       "      <th>A950170</th>\n",
       "      <th>A950180</th>\n",
       "      <th>A950190</th>\n",
       "      <th>A950200</th>\n",
       "      <th>A950210</th>\n",
       "      <th>A950220</th>\n",
       "    </tr>\n",
       "    <tr>\n",
       "      <th>date</th>\n",
       "      <th></th>\n",
       "      <th></th>\n",
       "      <th></th>\n",
       "      <th></th>\n",
       "      <th></th>\n",
       "      <th></th>\n",
       "      <th></th>\n",
       "      <th></th>\n",
       "      <th></th>\n",
       "      <th></th>\n",
       "      <th></th>\n",
       "      <th></th>\n",
       "      <th></th>\n",
       "      <th></th>\n",
       "      <th></th>\n",
       "      <th></th>\n",
       "      <th></th>\n",
       "      <th></th>\n",
       "      <th></th>\n",
       "      <th></th>\n",
       "      <th></th>\n",
       "    </tr>\n",
       "  </thead>\n",
       "  <tbody>\n",
       "    <tr>\n",
       "      <th>2023-12-08</th>\n",
       "      <td>False</td>\n",
       "      <td>True</td>\n",
       "      <td>False</td>\n",
       "      <td>False</td>\n",
       "      <td>False</td>\n",
       "      <td>False</td>\n",
       "      <td>True</td>\n",
       "      <td>True</td>\n",
       "      <td>False</td>\n",
       "      <td>True</td>\n",
       "      <td>...</td>\n",
       "      <td>False</td>\n",
       "      <td>True</td>\n",
       "      <td>True</td>\n",
       "      <td>True</td>\n",
       "      <td>True</td>\n",
       "      <td>False</td>\n",
       "      <td>True</td>\n",
       "      <td>True</td>\n",
       "      <td>True</td>\n",
       "      <td>True</td>\n",
       "    </tr>\n",
       "    <tr>\n",
       "      <th>2023-12-11</th>\n",
       "      <td>False</td>\n",
       "      <td>True</td>\n",
       "      <td>False</td>\n",
       "      <td>False</td>\n",
       "      <td>False</td>\n",
       "      <td>False</td>\n",
       "      <td>True</td>\n",
       "      <td>True</td>\n",
       "      <td>False</td>\n",
       "      <td>True</td>\n",
       "      <td>...</td>\n",
       "      <td>False</td>\n",
       "      <td>True</td>\n",
       "      <td>True</td>\n",
       "      <td>True</td>\n",
       "      <td>False</td>\n",
       "      <td>False</td>\n",
       "      <td>True</td>\n",
       "      <td>True</td>\n",
       "      <td>True</td>\n",
       "      <td>True</td>\n",
       "    </tr>\n",
       "    <tr>\n",
       "      <th>2023-12-12</th>\n",
       "      <td>False</td>\n",
       "      <td>True</td>\n",
       "      <td>False</td>\n",
       "      <td>False</td>\n",
       "      <td>False</td>\n",
       "      <td>False</td>\n",
       "      <td>True</td>\n",
       "      <td>True</td>\n",
       "      <td>False</td>\n",
       "      <td>True</td>\n",
       "      <td>...</td>\n",
       "      <td>True</td>\n",
       "      <td>True</td>\n",
       "      <td>True</td>\n",
       "      <td>True</td>\n",
       "      <td>False</td>\n",
       "      <td>False</td>\n",
       "      <td>True</td>\n",
       "      <td>False</td>\n",
       "      <td>True</td>\n",
       "      <td>True</td>\n",
       "    </tr>\n",
       "    <tr>\n",
       "      <th>2023-12-13</th>\n",
       "      <td>False</td>\n",
       "      <td>True</td>\n",
       "      <td>False</td>\n",
       "      <td>False</td>\n",
       "      <td>False</td>\n",
       "      <td>False</td>\n",
       "      <td>True</td>\n",
       "      <td>True</td>\n",
       "      <td>False</td>\n",
       "      <td>True</td>\n",
       "      <td>...</td>\n",
       "      <td>True</td>\n",
       "      <td>True</td>\n",
       "      <td>True</td>\n",
       "      <td>True</td>\n",
       "      <td>False</td>\n",
       "      <td>False</td>\n",
       "      <td>True</td>\n",
       "      <td>True</td>\n",
       "      <td>True</td>\n",
       "      <td>True</td>\n",
       "    </tr>\n",
       "    <tr>\n",
       "      <th>2023-12-14</th>\n",
       "      <td>False</td>\n",
       "      <td>True</td>\n",
       "      <td>False</td>\n",
       "      <td>True</td>\n",
       "      <td>False</td>\n",
       "      <td>False</td>\n",
       "      <td>True</td>\n",
       "      <td>True</td>\n",
       "      <td>False</td>\n",
       "      <td>True</td>\n",
       "      <td>...</td>\n",
       "      <td>True</td>\n",
       "      <td>True</td>\n",
       "      <td>True</td>\n",
       "      <td>True</td>\n",
       "      <td>False</td>\n",
       "      <td>False</td>\n",
       "      <td>True</td>\n",
       "      <td>True</td>\n",
       "      <td>True</td>\n",
       "      <td>True</td>\n",
       "    </tr>\n",
       "  </tbody>\n",
       "</table>\n",
       "<p>5 rows × 3649 columns</p>\n",
       "</div>"
      ],
      "text/plain": [
       "Symbol      A000010  A000020  A000030  A000040  A000050  A000060  A000070  \\\n",
       "date                                                                        \n",
       "2023-12-08    False     True    False    False    False    False     True   \n",
       "2023-12-11    False     True    False    False    False    False     True   \n",
       "2023-12-12    False     True    False    False    False    False     True   \n",
       "2023-12-13    False     True    False    False    False    False     True   \n",
       "2023-12-14    False     True    False     True    False    False     True   \n",
       "\n",
       "Symbol      A000080  A000090  A000100  ...  A950110  A950130  A950140  \\\n",
       "date                                   ...                              \n",
       "2023-12-08     True    False     True  ...    False     True     True   \n",
       "2023-12-11     True    False     True  ...    False     True     True   \n",
       "2023-12-12     True    False     True  ...     True     True     True   \n",
       "2023-12-13     True    False     True  ...     True     True     True   \n",
       "2023-12-14     True    False     True  ...     True     True     True   \n",
       "\n",
       "Symbol      A950160  A950170  A950180  A950190  A950200  A950210  A950220  \n",
       "date                                                                       \n",
       "2023-12-08     True     True    False     True     True     True     True  \n",
       "2023-12-11     True    False    False     True     True     True     True  \n",
       "2023-12-12     True    False    False     True    False     True     True  \n",
       "2023-12-13     True    False    False     True     True     True     True  \n",
       "2023-12-14     True    False    False     True     True     True     True  \n",
       "\n",
       "[5 rows x 3649 columns]"
      ]
     },
     "execution_count": 24,
     "metadata": {},
     "output_type": "execute_result"
    }
   ],
   "source": [
    "univ2000_2d.tail()"
   ]
  },
  {
   "cell_type": "code",
   "execution_count": 25,
   "metadata": {},
   "outputs": [],
   "source": [
    "# 모든 데이터셋에 univ2000 mask 적용\n",
    "\n",
    "return_2d = return_2d.loc[START_DATE:END_DATE][univ2000_2d]\n",
    "tradingmoneyvolume_2d = tradingmoneyvolume_2d.loc[START_DATE:END_DATE][univ2000_2d]\n",
    "mktcap_2d = mktcap_2d.loc[START_DATE:END_DATE][univ2000_2d]\n",
    "foreigner_2d = foreigner_2d.loc[START_DATE:END_DATE][univ2000_2d]\n"
   ]
  },
  {
   "cell_type": "code",
   "execution_count": 35,
   "metadata": {},
   "outputs": [],
   "source": [
    "return_2d = return_2d * 0.01 # % -> decimal"
   ]
  },
  {
   "cell_type": "code",
   "execution_count": 29,
   "metadata": {},
   "outputs": [
    {
     "data": {
      "text/plain": [
       "(2069, 3649)"
      ]
     },
     "execution_count": 29,
     "metadata": {},
     "output_type": "execute_result"
    }
   ],
   "source": [
    "return_2d.shape"
   ]
  },
  {
   "cell_type": "markdown",
   "metadata": {},
   "source": [
    "## 4. Factor Portfolio \n",
    "\n",
    "Fama-French 3 Factor Portfolio를 만들어 단순 시가총액 가중 포트폴리오(벤치마크)와 수익률 비교"
   ]
  },
  {
   "cell_type": "markdown",
   "metadata": {},
   "source": [
    "### A. Market factor\n",
    "\n",
    "$$ R_m - R_f $$ "
   ]
  },
  {
   "cell_type": "markdown",
   "metadata": {},
   "source": [
    "`Rf`는 기준금리 series 데이터가 따로 필요하므로 일단 상수로 가정\n",
    "\n",
    "이 경우 Sharpe 지수는 신뢰하기 어렵게 됨."
   ]
  },
  {
   "cell_type": "code",
   "execution_count": 36,
   "metadata": {},
   "outputs": [],
   "source": [
    "RISK_FREE = 0.04 / 252 # 1년 4% 수익률을 252일로 나눔"
   ]
  },
  {
   "cell_type": "code",
   "execution_count": 37,
   "metadata": {},
   "outputs": [],
   "source": [
    "cap_weight = mktcap_2d.div(mktcap_2d.sum(axis=1), axis=0)\n",
    "Rm = (return_2d - RISK_FREE).mul(cap_weight).sum(axis=1)"
   ]
  },
  {
   "cell_type": "code",
   "execution_count": 40,
   "metadata": {},
   "outputs": [],
   "source": [
    "Rm.index = pd.to_datetime(Rm.index)"
   ]
  },
  {
   "cell_type": "code",
   "execution_count": 45,
   "metadata": {},
   "outputs": [
    {
     "data": {
      "text/plain": [
       "<Axes: title={'center': 'Market Factor Portfolio'}, xlabel='date'>"
      ]
     },
     "execution_count": 45,
     "metadata": {},
     "output_type": "execute_result"
    },
    {
     "data": {
      "image/png": "[encoded data removed]",
      "text/plain": [
       "<Figure size 640x480 with 1 Axes>"
      ]
     },
     "metadata": {},
     "output_type": "display_data"
    }
   ],
   "source": [
    "(1+Rm).cumprod().plot(title='Market Factor Portfolio')"
   ]
  },
  {
   "cell_type": "markdown",
   "metadata": {},
   "source": [
    "### B. HML\n",
    "\n",
    "High Minus Low\n",
    "\n",
    "$$\n",
    "\\text{HML} = \\frac{1}{2} \\left( (S_{\\text{low}} + B_{\\text{low}}) - (S_{\\text{high}} + B_{\\text{high}}) \\right)\n",
    "$$"
   ]
  },
  {
   "cell_type": "code",
   "execution_count": null,
   "metadata": {},
   "outputs": [],
   "source": []
  },
  {
   "cell_type": "markdown",
   "metadata": {},
   "source": [
    "### C. SMB\n",
    "\n",
    "Small Minus Big\n",
    "\n",
    "$$\n",
    "\\text{SMB} = \\frac{1}{3} \\left( (S_{\\text{low}} + S_{\\text{mid}} + S_{\\text{high}}) - (B_{\\text{low}} + B_{\\text{mid}} + B_{\\text{high}}) \\right)\n",
    "\n",
    "$$"
   ]
  },
  {
   "cell_type": "code",
   "execution_count": null,
   "metadata": {},
   "outputs": [],
   "source": []
  },
  {
   "cell_type": "markdown",
   "metadata": {},
   "source": [
    "## 5. Factor Portfolio 성과분석 상세\n",
    "\n",
    "`quantstats` 이용"
   ]
  },
  {
   "cell_type": "markdown",
   "metadata": {},
   "source": []
  }
 ],
 "metadata": {
  "kernelspec": {
   "display_name": "dl39v1",
   "language": "python",
   "name": "python3"
  },
  "language_info": {
   "codemirror_mode": {
    "name": "ipython",
    "version": 3
   },
   "file_extension": ".py",
   "mimetype": "text/x-python",
   "name": "python",
   "nbconvert_exporter": "python",
   "pygments_lexer": "ipython3",
   "version": "3.9.18"
  }
 },
 "nbformat": 4,
 "nbformat_minor": 2
}
