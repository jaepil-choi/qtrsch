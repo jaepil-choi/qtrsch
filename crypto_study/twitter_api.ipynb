{
 "cells": [
  {
   "cell_type": "markdown",
   "metadata": {},
   "source": [
    "# Twitter API를 통해 Crypto tweet 수집\n",
    "\n",
    "- API 튜토리얼 해보기\n",
    "- BTC, ETH만 수집\n",
    "\n",
    "특이사항: \n",
    "- 일론머스크 인수 후 (X로 개명) free tier에서 retrieve 불가. \n",
    "    - 할 수 없이 `twikit` 이라는 scraping 기반 라이브러리 사용\n",
    "    - 주의 사항: 익명 temp 계정으로 만든 것만 사용할 것. "
   ]
  },
  {
   "cell_type": "code",
   "execution_count": 1,
   "metadata": {},
   "outputs": [],
   "source": [
    "import os, sys, warnings\n",
    "from pathlib import Path"
   ]
  },
  {
   "cell_type": "code",
   "execution_count": 2,
   "metadata": {},
   "outputs": [],
   "source": [
    "# warnings.filterwarnings(\"ignore\")"
   ]
  },
  {
   "cell_type": "code",
   "execution_count": 3,
   "metadata": {},
   "outputs": [],
   "source": [
    "import pandas as pd\n",
    "import numpy as np\n",
    "\n",
    "import matplotlib.pyplot as plt\n",
    "import seaborn as sns"
   ]
  },
  {
   "cell_type": "code",
   "execution_count": 24,
   "metadata": {},
   "outputs": [],
   "source": [
    "from tqdm import tqdm"
   ]
  },
  {
   "cell_type": "code",
   "execution_count": 4,
   "metadata": {},
   "outputs": [],
   "source": [
    "import asyncio\n",
    "import nest_asyncio\n",
    "from twikit import Client"
   ]
  },
  {
   "cell_type": "code",
   "execution_count": 5,
   "metadata": {},
   "outputs": [],
   "source": [
    "nest_asyncio.apply()"
   ]
  },
  {
   "cell_type": "code",
   "execution_count": 6,
   "metadata": {},
   "outputs": [],
   "source": [
    "%load_ext dotenv\n",
    "%dotenv"
   ]
  },
  {
   "cell_type": "markdown",
   "metadata": {},
   "source": [
    "## `twikit` tutorial \n",
    "\n",
    "Twitter API 쓰지 않고 scraping 방식으로 tweet 불러옴. \n",
    "\n",
    "구글에서 advanced search 로 날짜 넣어 검색하듯, 트위터 검색창에 날짜 넣어 검색하는 식으로 트윗을 모아볼 수 있음. \n",
    "\n",
    "한 번 로드할 때 최대 20개만 되기 때문에 최대한 잘게 쪼개 1일씩 가져와 데이터를 생성해야 함. \n",
    "\n",
    "일단 테스트 용으로 5월1일 ~ 7월 10일까지의 데이터만 생성해 보겠음. "
   ]
  },
  {
   "cell_type": "markdown",
   "metadata": {},
   "source": [
    "### 기본 사용법"
   ]
  },
  {
   "cell_type": "code",
   "execution_count": 7,
   "metadata": {},
   "outputs": [],
   "source": [
    "client = Client('en-US')"
   ]
  },
  {
   "cell_type": "code",
   "execution_count": 8,
   "metadata": {},
   "outputs": [],
   "source": [
    "async def main():\n",
    "    await client.login(\n",
    "        auth_info_1=os.getenv('TWITTER_USERNAME'),\n",
    "        auth_info_2=os.getenv('TWITTER_EMAIL'),\n",
    "        password=os.getenv('TWITTER_PASSWORD'),\n",
    "    )"
   ]
  },
  {
   "cell_type": "code",
   "execution_count": 9,
   "metadata": {},
   "outputs": [],
   "source": [
    "asyncio.run(main())"
   ]
  },
  {
   "cell_type": "code",
   "execution_count": 10,
   "metadata": {},
   "outputs": [],
   "source": [
    "tweets = await client.search_tweet('$ETH since:2023-05-05 until:2023-05-06', 'Latest', count=20)"
   ]
  },
  {
   "cell_type": "code",
   "execution_count": 11,
   "metadata": {},
   "outputs": [
    {
     "data": {
      "text/plain": [
       "[<Tweet id=\"1654636966367961088\">, <Tweet id=\"1654636966338494467\">, <Tweet id=\"1654636933266432003\">, <Tweet id=\"1654636867051028480\">, <Tweet id=\"1654636838307364864\">, <Tweet id=\"1654636741616099328\">, <Tweet id=\"1654636719998910465\">, <Tweet id=\"1654636693033570305\">, <Tweet id=\"1654636672112271360\">, <Tweet id=\"1654636597113942016\">]"
      ]
     },
     "execution_count": 11,
     "metadata": {},
     "output_type": "execute_result"
    }
   ],
   "source": [
    "tweets"
   ]
  },
  {
   "cell_type": "code",
   "execution_count": 12,
   "metadata": {},
   "outputs": [
    {
     "data": {
      "text/plain": [
       "10"
      ]
     },
     "execution_count": 12,
     "metadata": {},
     "output_type": "execute_result"
    }
   ],
   "source": [
    "len(tweets)"
   ]
  },
  {
   "cell_type": "code",
   "execution_count": 13,
   "metadata": {},
   "outputs": [],
   "source": [
    "t = tweets[0]"
   ]
  },
  {
   "cell_type": "code",
   "execution_count": 14,
   "metadata": {},
   "outputs": [
    {
     "data": {
      "text/plain": [
       "'Fri May 05 23:59:29 +0000 2023'"
      ]
     },
     "execution_count": 14,
     "metadata": {},
     "output_type": "execute_result"
    }
   ],
   "source": [
    "t.created_at"
   ]
  },
  {
   "cell_type": "code",
   "execution_count": 18,
   "metadata": {},
   "outputs": [
    {
     "data": {
      "text/plain": [
       "datetime.datetime(2023, 5, 5, 23, 59, 29, tzinfo=datetime.timezone.utc)"
      ]
     },
     "execution_count": 18,
     "metadata": {},
     "output_type": "execute_result"
    }
   ],
   "source": [
    "t.created_at_datetime"
   ]
  },
  {
   "cell_type": "code",
   "execution_count": 15,
   "metadata": {},
   "outputs": [
    {
     "data": {
      "text/plain": [
       "'🟩 $ETH block trade alert [Deribit] 🧱🧱 \\n\\nMAY(26) $2,000 Calls bought 250 @ 0.0466 ETH($93.01); Total=11.6500 ETH($23,251.30); IV=50.13%; OI=44331; Index=$1,995.82'"
      ]
     },
     "execution_count": 15,
     "metadata": {},
     "output_type": "execute_result"
    }
   ],
   "source": [
    "t.text"
   ]
  },
  {
   "cell_type": "code",
   "execution_count": 19,
   "metadata": {},
   "outputs": [
    {
     "data": {
      "text/plain": [
       "'🟩 $ETH block trade alert [Deribit] 🧱🧱 \\n\\nMAY(26) $2,000 Calls bought 250 @ 0.0466 ETH($93.01); Total=11.6500 ETH($23,251.30); IV=50.13%; OI=44331; Index=$1,995.82'"
      ]
     },
     "execution_count": 19,
     "metadata": {},
     "output_type": "execute_result"
    }
   ],
   "source": [
    "t.full_text"
   ]
  },
  {
   "cell_type": "markdown",
   "metadata": {},
   "source": [
    "### 날짜 범위를 주면 그만큼 데이터를 가져오는 함수 추가. \n",
    "\n",
    "혹시 모를 ban을 위해 한 번 가져올 때 3초씩 sleep을 주겠음. \n",
    "\n",
    "주의: 쓰면 안되는 것들\n",
    "- view count\n",
    "- favorite count\n",
    "- retweets\n",
    "\n",
    "등등\n",
    "\n",
    "PIT(Point-In-Time)하지 않음. \n",
    "\n",
    "Data 단에서 벌써 forward-looking 해버릴 수 있음. \n",
    "\n",
    "사후 검증 방법: live에서 batch로 append 할 때 제대로 안쌓이면 forward looking "
   ]
  },
  {
   "cell_type": "code",
   "execution_count": 55,
   "metadata": {},
   "outputs": [],
   "source": [
    "class TooManyRequests(Exception):\n",
    "    pass"
   ]
  },
  {
   "cell_type": "code",
   "execution_count": 56,
   "metadata": {},
   "outputs": [],
   "source": [
    "async def get_tweets_from_date(search_term, date, how='Latest'):\n",
    "    # date format should be 'YYYY-MM-DD'\n",
    "\n",
    "    since = (pd.to_datetime(date) - pd.Timedelta(days=1)).strftime('%Y-%m-%d')\n",
    "    until = date\n",
    "\n",
    "    # try:\n",
    "    #     tweets = await client.search_tweet(f'{search_term} since:{since} until:{until}', how, count=20)\n",
    "    # except TooManyRequests as e:\n",
    "    #     raise e\n",
    "    \n",
    "    tweets = await client.search_tweet(f'{search_term} since:{since} until:{until}', how, count=20)\n",
    "    \n",
    "    \n",
    "    data = [\n",
    "        {\n",
    "            'created_at': t.created_at_datetime,\n",
    "            'user_id': t.user.id,\n",
    "            'user_createdat': t.user.created_at,\n",
    "            'user_name': t.user.name,\n",
    "            'full_text': t.full_text,\n",
    "            'place': t.place,\n",
    "            'hashtags': t.hashtags,\n",
    "            'has_card': t.has_card,\n",
    "            'thumbnail_title': t.thumbnail_title,\n",
    "            'urls': t.urls,\n",
    "        }\n",
    "        for t in tweets\n",
    "    ]\n",
    "\n",
    "    return pd.DataFrame(data)\n",
    "\n",
    "    "
   ]
  },
  {
   "cell_type": "code",
   "execution_count": 57,
   "metadata": {},
   "outputs": [],
   "source": [
    "async def get_tweets_from_date_range(search_term, start_date, end_date, how='Latest', sleep=3, long_sleep=15*60):\n",
    "    # date format should be 'YYYY-MM-DD'\n",
    "\n",
    "    dates = pd.date_range(start_date, end_date, freq='D').strftime('%Y-%m-%d')\n",
    "\n",
    "    dfs = []\n",
    "\n",
    "    for date in tqdm(dates):\n",
    "        try:\n",
    "            df = await get_tweets_from_date(search_term, date, how)\n",
    "            dfs.append(df)\n",
    "        # except TooManyRequests:\n",
    "        except Exception as e:\n",
    "            print(e)\n",
    "            print(f'Sleeping for {long_sleep} seconds...')\n",
    "            await asyncio.sleep(long_sleep)\n",
    "\n",
    "            df = await get_tweets_from_date(search_term, date, how)\n",
    "            dfs.append(df)\n",
    "        finally:\n",
    "            await asyncio.sleep(sleep)\n",
    "            \n",
    "\n",
    "    return pd.concat(dfs, ignore_index=True)\n"
   ]
  },
  {
   "cell_type": "code",
   "execution_count": 58,
   "metadata": {},
   "outputs": [],
   "source": [
    "START_DATE = '2024-05-01'\n",
    "END_DATE = '2024-07-17'\n",
    "\n",
    "search_term = '$ETH'\n"
   ]
  },
  {
   "cell_type": "code",
   "execution_count": 59,
   "metadata": {},
   "outputs": [
    {
     "name": "stderr",
     "output_type": "stream",
     "text": [
      " 28%|██▊       | 22/78 [01:22<03:33,  3.82s/it]"
     ]
    },
    {
     "name": "stdout",
     "output_type": "stream",
     "text": [
      "status: 429, message: \"Rate limit exceeded\n",
      "\"\n",
      "Sleeping for 900 seconds...\n"
     ]
    },
    {
     "name": "stderr",
     "output_type": "stream",
     "text": [
      " 92%|█████████▏| 72/78 [19:29<00:22,  3.70s/it]   "
     ]
    },
    {
     "name": "stdout",
     "output_type": "stream",
     "text": [
      "status: 429, message: \"Rate limit exceeded\n",
      "\"\n",
      "Sleeping for 900 seconds...\n"
     ]
    },
    {
     "name": "stderr",
     "output_type": "stream",
     "text": [
      "100%|██████████| 78/78 [34:52<00:00, 26.83s/it] \n"
     ]
    }
   ],
   "source": [
    "df = await get_tweets_from_date_range(search_term, START_DATE, END_DATE)"
   ]
  },
  {
   "cell_type": "markdown",
   "metadata": {},
   "source": [
    "나중에 rate limit exception은 고쳐보자... "
   ]
  },
  {
   "cell_type": "code",
   "execution_count": 72,
   "metadata": {},
   "outputs": [],
   "source": [
    "df[['user_id', 'user_createdat', 'user_name', 'full_text', 'place', 'hashtags', 'thumbnail_title', 'urls']] = df[['user_id', 'user_createdat', 'user_name', 'full_text', 'place', 'hashtags', 'thumbnail_title', 'urls']].astype(str)"
   ]
  },
  {
   "cell_type": "code",
   "execution_count": null,
   "metadata": {},
   "outputs": [
    {
     "name": "stdout",
     "output_type": "stream",
     "text": [
      "<class 'pandas.core.frame.DataFrame'>\n",
      "RangeIndex: 808 entries, 0 to 807\n",
      "Data columns (total 10 columns):\n",
      " #   Column           Non-Null Count  Dtype \n",
      "---  ------           --------------  ----- \n",
      " 0   created_at       808 non-null    object\n",
      " 1   user_id          808 non-null    object\n",
      " 2   user_createdat   808 non-null    object\n",
      " 3   user_name        808 non-null    object\n",
      " 4   full_text        808 non-null    object\n",
      " 5   place            808 non-null    object\n",
      " 6   hashtags         808 non-null    object\n",
      " 7   has_card         808 non-null    bool  \n",
      " 8   thumbnail_title  808 non-null    object\n",
      " 9   urls             808 non-null    object\n",
      "dtypes: bool(1), object(9)\n",
      "memory usage: 57.7+ KB\n"
     ]
    }
   ],
   "source": [
    "df.info()"
   ]
  },
  {
   "cell_type": "code",
   "execution_count": 75,
   "metadata": {},
   "outputs": [],
   "source": [
    "df['created_at'] = pd.to_datetime(df['created_at'])"
   ]
  },
  {
   "cell_type": "code",
   "execution_count": 76,
   "metadata": {},
   "outputs": [],
   "source": [
    "df.to_pickle('ETH_tweets.pkl')"
   ]
  },
  {
   "cell_type": "code",
   "execution_count": null,
   "metadata": {},
   "outputs": [],
   "source": []
  }
 ],
 "metadata": {
  "kernelspec": {
   "display_name": ".venv",
   "language": "python",
   "name": "python3"
  },
  "language_info": {
   "codemirror_mode": {
    "name": "ipython",
    "version": 3
   },
   "file_extension": ".py",
   "mimetype": "text/x-python",
   "name": "python",
   "nbconvert_exporter": "python",
   "pygments_lexer": "ipython3",
   "version": "3.11.5"
  }
 },
 "nbformat": 4,
 "nbformat_minor": 2
}
